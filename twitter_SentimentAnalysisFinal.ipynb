{
 "cells": [
  {
   "cell_type": "markdown",
   "metadata": {},
   "source": [
    "### NLP Model For Twitter Sentiment Analysis on Google and Apple products\n",
    "The goal of this project is to develop a Natural Language Processing (NLP) model that analyzes sentiment in tweets related to Google and Apple products.The dataset sourced from Kaggle, contains tweets labeles as postive, negative and Neutral\n",
    "\n",
    "### Why Sentiment Analysis Matters\n",
    "In today's digital landscape,sentiment analysis plays a vital role in understanding public perception. Companies use this method to gain insightful information form massive volumes of textual data such as social media comments,news stories and customer  evaluations. We can improve decision-making and business intelligence by implementing NLP algorithms like Suppor Vector Machines(SVM) and Naive bayes.\n",
    "\n",
    "The main objective of this project is to :\n",
    "1. Preprocess Twitter data(tokenization, cleaning and vectorization)\n",
    "2. Apply machine learning models for sentiment classification\n",
    "3. Asses model perofmance using important metrics\n",
    "\n",
    "Our goal is to creae an effective sentiment analysis model by the project's conclusion that offers insightful information about consumer perception of Apple and Google products\n",
    "\n",
    "## Summary "
   ]
  },
  {
   "cell_type": "markdown",
   "metadata": {
    "vscode": {
     "languageId": "plaintext"
    }
   },
   "source": []
  }
 ],
 "metadata": {
  "kernelspec": {
   "display_name": "Python 3",
   "language": "python",
   "name": "python3"
  },
  "language_info": {
   "codemirror_mode": {
    "name": "ipython",
    "version": 3
   },
   "file_extension": ".py",
   "mimetype": "text/x-python",
   "name": "python",
   "nbconvert_exporter": "python",
   "pygments_lexer": "ipython3",
   "version": "3.8.5"
  }
 },
 "nbformat": 4,
 "nbformat_minor": 2
}
